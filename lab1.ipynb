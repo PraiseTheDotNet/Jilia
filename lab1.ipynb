{
 "cells": [
  {
   "cell_type": "markdown",
   "metadata": {},
   "source": [
    "Для произвольного года выясните, является ли он високосным. Високосными являются года, которые делятся на 4, за исключением годов,\n",
    "которые делятся на 100, но не делятся на 400."
   ]
  },
  {
   "cell_type": "code",
   "execution_count": 39,
   "metadata": {
    "collapsed": false
   },
   "outputs": [
    {
     "name": "stdout",
     "output_type": "stream",
     "text": [
      "Enter year:\n",
      "stdin> 2021\n",
      "Не високосный\n"
     ]
    }
   ],
   "source": [
    "println(\"Enter year:\")\n",
    "year_str = readline() \n",
    "year = parse(Int64, year_str)\n",
    "if year % 4  == 0 && (year % 100 != 0 || year % 400 == 0)\n",
    "    println(\"Високосный\")\n",
    "else\n",
    "    println(\"Не високосный\")\n",
    "end"
   ]
  },
  {
   "cell_type": "markdown",
   "metadata": {},
   "source": [
    "Найти разность между квадратом суммы и суммой квадратов первых N\n",
    "натуральных чисел"
   ]
  },
  {
   "cell_type": "code",
   "execution_count": 42,
   "metadata": {
    "collapsed": false
   },
   "outputs": [
    {
     "name": "stdout",
     "output_type": "stream",
     "text": [
      "stdin> 10\n",
      "Разность между квадратом суммы и суммой квадратов = 2640\n"
     ]
    }
   ],
   "source": [
    "n = parse(Int64, readline())\n",
    "sum = 0\n",
    "sum_squares = 0\n",
    "for i = 1:n\n",
    "    sum += i\n",
    "    sum_squares += i * i\n",
    "end\n",
    "sum *= sum\n",
    "println(\"Разность между квадратом суммы и суммой квадратов = \", sum - sum_squares)"
   ]
  },
  {
   "cell_type": "markdown",
   "metadata": {},
   "source": [
    "Реализовать функции кодирования и декодирования строки по\n",
    "алгоритму RLE.\n",
    "Кодировка длин серий (RLE) – это простая форма сжатия данных, при\n",
    "которой прогоны (последовательные элементы данных) заменяются\n",
    "только одним значением данных и количеством.\n",
    "Пример:\n",
    "'AABCCCDEEEE' → '2A1B3C1D4E' → 'AABCCCDEEEE'.\n"
   ]
  },
  {
   "cell_type": "code",
   "execution_count": 46,
   "metadata": {
    "collapsed": false
   },
   "outputs": [
    {
     "name": "stdout",
     "output_type": "stream",
     "text": [
      "stdin> QLLLMMMBBB\n",
      "Закодированное значение: 1Q3L3M3B\n",
      "Декодированное значение: QLLLMMMBBB\n",
      "Эквивалентность входного и декодированного: true\n"
     ]
    }
   ],
   "source": [
    "function encode(s)\n",
    "    lastchar = s[firstindex(s)]\n",
    "    cnt = 1\n",
    "    output = \"\"\n",
    "    for x = firstindex(s)+1:lastindex(s)+1\n",
    "        if x > lastindex(s) || lastchar != s[x]\n",
    "            output *= string(cnt, lastchar)\n",
    "            if x <= lastindex(s)\n",
    "                lastchar = s[x]\n",
    "                cnt = 1\n",
    "            end\n",
    "        else\n",
    "            cnt += 1\n",
    "        end\n",
    "    end\n",
    "    return output\n",
    "end\n",
    "\n",
    "function decode(s)\n",
    "    lastnum = s[firstindex(s)]\n",
    "    output = \"\"\n",
    "    for x = firstindex(s)+1:lastindex(s)\n",
    "        if !isnumeric(s[x])\n",
    "            output *= s[x] ^ parse(Int64, lastnum)\n",
    "            lastnum = \"\"\n",
    "        else\n",
    "            lastnum *= s[x]\n",
    "        end\n",
    "    end\n",
    "    return output\n",
    "end\n",
    "\n",
    "input = readline()\n",
    "enc = encode(input)\n",
    "dec = decode(enc)\n",
    "println(\"Закодированное значение: \", enc)\n",
    "println(\"Декодированное значение: \", dec)\n",
    "println(\"Эквивалентность входного и декодированного: \", input == dec)"
   ]
  },
  {
   "cell_type": "code",
   "execution_count": null,
   "metadata": {
    "collapsed": true
   },
   "outputs": [],
   "source": []
  }
 ],
 "metadata": {
  "anaconda-cloud": {},
  "kernelspec": {
   "display_name": "Julia 1.0.5",
   "language": "julia",
   "name": "julia-1.0"
  },
  "language_info": {
   "file_extension": ".jl",
   "mimetype": "application/julia",
   "name": "julia",
   "version": "1.0.5"
  }
 },
 "nbformat": 4,
 "nbformat_minor": 1
}
